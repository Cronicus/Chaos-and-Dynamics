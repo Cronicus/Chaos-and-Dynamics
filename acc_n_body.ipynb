{
 "cells": [
  {
   "cell_type": "code",
   "execution_count": 48,
   "metadata": {},
   "outputs": [],
   "source": [
    "from numpy import linalg as lin\n",
    "import numpy as np\n",
    "def acc(pos1,*pos):\n",
    "    accx=0\n",
    "    accy=0\n",
    "    accz=0\n",
    "    for i in pos:\n",
    "        accx+=-i[3]*39.748*(pos1[0]-i[0])/(lin.norm(pos1[:2]-i[:2]))**(3.0)\n",
    "        accy+=-i[3]*39.748*(pos1[1]-i[1])/(lin.norm(pos1[:2]-i[:2]))**(3.0)\n",
    "        accz+=-i[3]*39.748*(pos1[2]-i[2])/(lin.norm(pos1[:2]-i[:2]))**(3.0)\n",
    "    l=np.array([accx,accy,accz])\n",
    "    return l"
   ]
  },
  {
   "cell_type": "code",
   "execution_count": null,
   "metadata": {},
   "outputs": [],
   "source": []
  }
 ],
 "metadata": {
  "kernelspec": {
   "display_name": "Python 2",
   "language": "python",
   "name": "python2"
  },
  "language_info": {
   "codemirror_mode": {
    "name": "ipython",
    "version": 2
   },
   "file_extension": ".py",
   "mimetype": "text/x-python",
   "name": "python",
   "nbconvert_exporter": "python",
   "pygments_lexer": "ipython2",
   "version": "2.7.16"
  }
 },
 "nbformat": 4,
 "nbformat_minor": 2
}
