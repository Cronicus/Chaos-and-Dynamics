{
 "cells": [
  {
   "cell_type": "code",
   "execution_count": 32,
   "metadata": {},
   "outputs": [],
   "source": [
    "from numpy import linalg as lin\n",
    "import numpy as np\n",
    "def acc(*pos):\n",
    "    lacc=[]\n",
    "    b=0\n",
    "    for j in pos:\n",
    "        b+=1\n",
    "        a=0\n",
    "        accx=0\n",
    "        accy=0\n",
    "        accz=0\n",
    "        for i in pos:\n",
    "            a+=1\n",
    "            if a!=b:\n",
    "                accx+=-i[3]*39.748*(j[0]-i[0])/(lin.norm(j[:3]-i[:3]))**(3.0)\n",
    "                accy+=-i[3]*39.748*(j[1]-i[1])/(lin.norm(j[:3]-i[:3]))**(3.0)\n",
    "                accz+=-i[3]*39.748*(j[2]-i[2])/(lin.norm(j[:3]-i[:3]))**(3.0)\n",
    "                \n",
    "        l=np.array([accx,accy,accz])\n",
    "        if a!=b:    \n",
    "            lacc.append(l)\n",
    "    return lacc"
   ]
  },
  {
   "cell_type": "code",
   "execution_count": 33,
   "metadata": {},
   "outputs": [
    {
     "data": {
      "text/plain": [
       "[array([   2.29324808, -189.88883351,  -30.62992257]),\n",
       " array([  1.46554869,  57.18919314, 178.87577429]),\n",
       " array([  2.08590087, 160.38260058, -85.26119825]),\n",
       " array([-3.58443088, -1.8800099 , -7.44935518])]"
      ]
     },
     "execution_count": 33,
     "metadata": {},
     "output_type": "execute_result"
    }
   ],
   "source": [
    "acc(np.array([1,2,3,4]),np.array([1,1,2,2]),np.array([1,1,3,4]),np.array([4,3,9,6]),np.array([1,1,1,1]))"
   ]
  }
 ],
 "metadata": {
  "kernelspec": {
   "display_name": "Python 2",
   "language": "python",
   "name": "python2"
  },
  "language_info": {
   "codemirror_mode": {
    "name": "ipython",
    "version": 2
   },
   "file_extension": ".py",
   "mimetype": "text/x-python",
   "name": "python",
   "nbconvert_exporter": "python",
   "pygments_lexer": "ipython2",
   "version": "2.7.16"
  }
 },
 "nbformat": 4,
 "nbformat_minor": 2
}
